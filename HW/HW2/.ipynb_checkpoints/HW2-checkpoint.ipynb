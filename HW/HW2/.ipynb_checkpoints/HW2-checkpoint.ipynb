{
 "cells": [
  {
   "cell_type": "markdown",
   "metadata": {},
   "source": [
    "# HW 2 Data Mining\n",
    "\n",
    "\n",
    "## Francisco J. Díaz Riollano\n"
   ]
  },
  {
   "cell_type": "code",
   "execution_count": 1,
   "metadata": {},
   "outputs": [],
   "source": [
    "# imports\n",
    "import pandas as pd\n",
    "import os"
   ]
  },
  {
   "cell_type": "code",
   "execution_count": 6,
   "metadata": {},
   "outputs": [
    {
     "data": {
      "text/plain": [
       "'/Users/francisco/Desktop/Fall_2018/Data_Mining/HW/HW2/datasets'"
      ]
     },
     "execution_count": 6,
     "metadata": {},
     "output_type": "execute_result"
    }
   ],
   "source": [
    "# path\n",
    "path = os.getcwd()\n",
    "path = os.path.join(path,'datasets')\n",
    "crd_card_path = os.path.join(path,)\n",
    "e"
   ]
  },
  {
   "cell_type": "markdown",
   "metadata": {},
   "source": [
    "### I(10).  Aplicar el metodo   RELIEF  a su conjunto de datos para seleccionar el mejor subconjunto de variables. Tratar dos  distintos valores como umbrales. Evaluar el subconjunto elegido usando el estimado del error de clasificación del clasificador LDA o naive Bayes.\n"
   ]
  },
  {
   "cell_type": "code",
   "execution_count": null,
   "metadata": {},
   "outputs": [],
   "source": []
  },
  {
   "cell_type": "markdown",
   "metadata": {},
   "source": [
    "### II(8). Discretizar su conjunto de datos usando cualquier método y calcular la inconsistencia de su conjunto de datos discretizado y seleccionar los mejores subconjuntos de variables usando el metodo LVF (inconsistencia y seleccion random) o FINCO (inconsistencia y forward selection).\n"
   ]
  },
  {
   "cell_type": "code",
   "execution_count": null,
   "metadata": {},
   "outputs": [],
   "source": []
  },
  {
   "cell_type": "markdown",
   "metadata": {},
   "source": [
    "### III(8). Aplicar un metodos wrapper, junto  los clasificadores LDA y naive Bayes,  para seleccionar variables en su conjunto de datos y comparar sus resultados con las partes I y II.\n"
   ]
  },
  {
   "cell_type": "code",
   "execution_count": null,
   "metadata": {},
   "outputs": [],
   "source": []
  },
  {
   "cell_type": "markdown",
   "metadata": {},
   "source": [
    "### IV(14) Aplicar componentes principales (PCA)  a su conjuntos de datos y luego usar el clasificador LDA para predecir las clases usando los mejores PC. Estimar el error de clasificación usando LDA y/o Naive Bayes. Aplicar nuevamente PCA al conjunto de datos original pero usando solo las mejores variables seleccionadas( I, II o III). Estimar nuevamente el error de clasificación  y compararlo con el resultado anterior. "
   ]
  },
  {
   "cell_type": "code",
   "execution_count": null,
   "metadata": {},
   "outputs": [],
   "source": []
  }
 ],
 "metadata": {
  "kernelspec": {
   "display_name": "Python 3",
   "language": "python",
   "name": "python3"
  },
  "language_info": {
   "codemirror_mode": {
    "name": "ipython",
    "version": 3
   },
   "file_extension": ".py",
   "mimetype": "text/x-python",
   "name": "python",
   "nbconvert_exporter": "python",
   "pygments_lexer": "ipython3",
   "version": "3.7.0"
  }
 },
 "nbformat": 4,
 "nbformat_minor": 2
}
