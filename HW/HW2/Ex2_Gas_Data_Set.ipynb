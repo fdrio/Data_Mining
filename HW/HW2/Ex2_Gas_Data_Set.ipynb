{
 "cells": [
  {
   "cell_type": "markdown",
   "metadata": {},
   "source": [
    "# Homework 2 para el data set \"Gas Sensor Array Drift\""
   ]
  },
  {
   "cell_type": "markdown",
   "metadata": {},
   "source": [
    "### Aplicar el metodo   RELIEF  a su conjunto de datos para seleccionar el mejor subconjunto de variables. Evaluar el subconjunto elegido usando el estimado del error de clasificación del clasificador LDA o naive Bayes.\n"
   ]
  },
  {
   "cell_type": "markdown",
   "metadata": {},
   "source": [
    "### Discretizar su conjunto de datos usando   y aplicar Multinomial Naive Bayes. Comparar su resultado con la precisión usando los datos originales. Estimar la precisión con el método de resubsitucion, el método holdout, por validación cruzada\n"
   ]
  },
  {
   "cell_type": "markdown",
   "metadata": {},
   "source": [
    "### Aplicar un metodos wrapper, junto  los clasificadores LDA y Naive Bayes,  para seleccionar variables en su conjunto de datos y comparar sus resultados de la parte a)\n"
   ]
  },
  {
   "cell_type": "code",
   "execution_count": null,
   "metadata": {},
   "outputs": [],
   "source": []
  }
 ],
 "metadata": {
  "kernelspec": {
   "display_name": "Python 3",
   "language": "python",
   "name": "python3"
  },
  "language_info": {
   "codemirror_mode": {
    "name": "ipython",
    "version": 3
   },
   "file_extension": ".py",
   "mimetype": "text/x-python",
   "name": "python",
   "nbconvert_exporter": "python",
   "pygments_lexer": "ipython3",
   "version": "3.7.0"
  }
 },
 "nbformat": 4,
 "nbformat_minor": 2
}
